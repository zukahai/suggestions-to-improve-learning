{
  "nbformat": 4,
  "nbformat_minor": 0,
  "metadata": {
    "colab": {
      "provenance": []
    },
    "kernelspec": {
      "name": "python3",
      "display_name": "Python 3"
    },
    "language_info": {
      "name": "python"
    }
  },
  "cells": [
    {
      "cell_type": "code",
      "execution_count": null,
      "metadata": {
        "id": "j3P1PtqkKYkK"
      },
      "outputs": [],
      "source": [
        "import json, csv"
      ]
    },
    {
      "cell_type": "code",
      "source": [
        "def load_json(path):\n",
        "  with open(path, 'r', encoding='utf-8') as f:\n",
        "    return json.load(f)"
      ],
      "metadata": {
        "id": "E2dTQXuDL60v"
      },
      "execution_count": null,
      "outputs": []
    },
    {
      "cell_type": "code",
      "source": [
        "class Subject:\n",
        "  def __init__(self, id: int, name: str, so_tin_chi: int, tags: list[str]):\n",
        "    self.id = id\n",
        "    self.name = name\n",
        "    self.so_tin_chi = so_tin_chi\n",
        "    self.tags = tags\n",
        "\n",
        "  def __str__(self):\n",
        "    return str(self.id) + ' ' + self.name + ' ' + str(self.so_tin_chi) + ' ' + ', '.join(self.tags)"
      ],
      "metadata": {
        "id": "bueZ2TsNMGr2"
      },
      "execution_count": null,
      "outputs": []
    },
    {
      "cell_type": "code",
      "source": [
        "subject_data = load_json('subject.json')\n",
        "subjects: list[Subject] = []\n",
        "for i in range(len(subject_data)):\n",
        "  subjects.append(Subject(id=i+1, name=subject_data[i]['name'], so_tin_chi=subject_data[i]['so_tin_chi'], tags=subject_data[i]['tags']))\n",
        "\n",
        "for subject in subjects:\n",
        "  print(subject)"
      ],
      "metadata": {
        "id": "P5Rmp6hANMwp"
      },
      "execution_count": null,
      "outputs": []
    },
    {
      "cell_type": "code",
      "source": [
        "with open('ok.csv', 'w', encoding='utf-8-sig', newline='') as f:\n",
        "  writer = csv.writer(f)\n",
        "  writer.writerow(['id', 'name', 'so_tin_chi', 'tags'])\n",
        "  for subject in subjects:\n",
        "    writer.writerow([subject.id, subject.name, subject.so_tin_chi, ', '.join(subject.tags)])"
      ],
      "metadata": {
        "id": "etMMS73uTAgj"
      },
      "execution_count": null,
      "outputs": []
    },
    {
      "cell_type": "code",
      "source": [
        "import csv, json\n",
        "# read file csv\n",
        "def read_file_csv(path):\n",
        "  with open(path, 'r', encoding='utf-8-sig') as f:\n",
        "    csv_data = csv.reader(f)\n",
        "    header = next(csv_data)\n",
        "    json_data = []\n",
        "    for row in csv_data:\n",
        "      tags = row[3].split(', ')\n",
        "      json_data.append({\n",
        "        'id': row[0],\n",
        "        'name': row[1],\n",
        "        'so_tin_chi': row[2],\n",
        "        'tags': tags\n",
        "      })\n",
        "    return json_data\n",
        "data = read_file_csv('ok.csv')\n",
        "def write_file_json(path, data):\n",
        "  with open(path, 'w', encoding='utf-8') as f:\n",
        "    json.dump(data, f, ensure_ascii=False, indent=4)\n",
        "write_file_json('subject22.json', data)"
      ],
      "metadata": {
        "id": "0fRxUylcXSLW"
      },
      "execution_count": null,
      "outputs": []
    },
    {
      "cell_type": "markdown",
      "source": [],
      "metadata": {
        "id": "0QtQ03utZNSJ"
      }
    }
  ]
}